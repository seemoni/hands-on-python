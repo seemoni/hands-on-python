{
 "cells": [
  {
   "cell_type": "code",
   "execution_count": 4,
   "metadata": {},
   "outputs": [
    {
     "name": "stdout",
     "output_type": "stream",
     "text": [
      "('India', 'Uk', 'Australia', 'France', 'Russia')\n",
      "\n",
      "enter one country among the above list: India\n",
      "India has a index number 0\n"
     ]
    }
   ],
   "source": [
    "#Create a tuple containing the names of five countries and display the whole tuple. Ask the user to enter one of the countries that have been shown to them and then display the index number (i.e. position in the list) of that item in the tuple. \n",
    "country_tuple = (\"India\",\"Uk\",\"Australia\",\"France\",\"Russia\")\n",
    "print(country_tuple)\n",
    "print()\n",
    "country = input(\"enter one country among the above list: \")\n",
    "print(country, \"has a index number\", country_tuple.index(country))"
   ]
  },
  {
   "cell_type": "code",
   "execution_count": 8,
   "metadata": {},
   "outputs": [
    {
     "name": "stdout",
     "output_type": "stream",
     "text": [
      "('India', 'Uk', 'Australia', 'France', 'Russia')\n",
      "\n",
      "enter one country among the above list: France\n",
      "France has a index number 3\n",
      "enter a number between 0 and 4 : 2\n",
      "Australia\n"
     ]
    }
   ],
   "source": [
    "#Add to program on the above to ask the user to enter a number and display the country in that position. \n",
    "country_tuple = (\"India\",\"Uk\",\"Australia\",\"France\",\"Russia\")\n",
    "print(country_tuple)\n",
    "print()\n",
    "country = input(\"enter one country among the above list: \")\n",
    "print(country, \"has a index number\", country_tuple.index(country))\n",
    "num = int(input(\"enter a number between 0 and 4 : \"))\n",
    "print(country_tuple[num])"
   ]
  },
  {
   "cell_type": "code",
   "execution_count": null,
   "metadata": {},
   "outputs": [],
   "source": []
  }
 ],
 "metadata": {
  "kernelspec": {
   "display_name": "Python 3",
   "language": "python",
   "name": "python3"
  },
  "language_info": {
   "codemirror_mode": {
    "name": "ipython",
    "version": 3
   },
   "file_extension": ".py",
   "mimetype": "text/x-python",
   "name": "python",
   "nbconvert_exporter": "python",
   "pygments_lexer": "ipython3",
   "version": "3.8.3"
  }
 },
 "nbformat": 4,
 "nbformat_minor": 4
}
