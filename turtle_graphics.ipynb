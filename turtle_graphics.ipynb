{
 "cells": [
  {
   "cell_type": "markdown",
   "metadata": {},
   "source": [
    "# turtle graphics"
   ]
  },
  {
   "cell_type": "code",
   "execution_count": 4,
   "metadata": {},
   "outputs": [],
   "source": [
    "#Draw a square.\n",
    "\n",
    "import turtle\n",
    "for i in range (0,4):\n",
    " turtle.forward(100)\n",
    " turtle.right(90)\n",
    "    \n",
    "turtle.exitonclick()"
   ]
  },
  {
   "cell_type": "code",
   "execution_count": 11,
   "metadata": {},
   "outputs": [],
   "source": [
    "#Draw a triangle. \n",
    "\n",
    "import turtle\n",
    "for i in range (0,3):\n",
    " turtle.forward(100)\n",
    " turtle.left(120)\n",
    "\n",
    "turtle.exitonclick()\n",
    "    "
   ]
  },
  {
   "cell_type": "code",
   "execution_count": 15,
   "metadata": {},
   "outputs": [],
   "source": [
    "#Draw a circle\n",
    "\n",
    "import turtle\n",
    "for i in range (0,360):\n",
    " turtle.forward(1)\n",
    " turtle.right(1)\n",
    "\n",
    "turtle.exitonclick()"
   ]
  },
  {
   "cell_type": "code",
   "execution_count": 21,
   "metadata": {},
   "outputs": [],
   "source": [
    "#Draw three squares in a row with a gap between each. Fill them using three different colours. \n",
    "\n",
    "import turtle\n",
    "turtle.color(\"black\",\"red\")\n",
    "turtle.begin_fill()\n",
    "for i in range (0,4):\n",
    " turtle.forward(100)\n",
    " turtle.right(90)\n",
    "turtle.penup()\n",
    "turtle.end_fill()\n",
    "turtle.forward(120)\n",
    "\n",
    "turtle.pendown()\n",
    "turtle.color(\"green\",\"yellow\")\n",
    "turtle.begin_fill()\n",
    "for i in range (0,4):\n",
    " turtle.forward(100)\n",
    " turtle.right(90)\n",
    "turtle.penup()\n",
    "turtle.end_fill()\n",
    "turtle.forward(120)\n",
    "\n",
    "turtle.pendown()\n",
    "turtle.color(\"pink\",\"blue\")\n",
    "turtle.begin_fill()\n",
    "for i in range (0,4):\n",
    " turtle.forward(100)\n",
    " turtle.right(90)\n",
    "turtle.penup()\n",
    "turtle.end_fill()\n",
    "\n",
    "turtle.exitonclick()"
   ]
  },
  {
   "cell_type": "code",
   "execution_count": null,
   "metadata": {},
   "outputs": [],
   "source": [
    "#create a 5 pointed star\n",
    "import turtle\n",
    "for i in range (0,5):\n",
    " turtle.forward(100)\n",
    " turtle.right(144)\n",
    "\n",
    "turtle.exitonclick()\n"
   ]
  },
  {
   "cell_type": "code",
   "execution_count": null,
   "metadata": {},
   "outputs": [],
   "source": []
  }
 ],
 "metadata": {
  "kernelspec": {
   "display_name": "Python 3",
   "language": "python",
   "name": "python3"
  },
  "language_info": {
   "codemirror_mode": {
    "name": "ipython",
    "version": 3
   },
   "file_extension": ".py",
   "mimetype": "text/x-python",
   "name": "python",
   "nbconvert_exporter": "python",
   "pygments_lexer": "ipython3",
   "version": "3.8.3"
  }
 },
 "nbformat": 4,
 "nbformat_minor": 4
}
