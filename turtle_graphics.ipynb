{
 "cells": [
  {
   "cell_type": "markdown",
   "metadata": {},
   "source": [
    "# turtle graphics"
   ]
  },
  {
   "cell_type": "code",
   "execution_count": 4,
   "metadata": {},
   "outputs": [],
   "source": [
    "#Draw a square.\n",
    "\n",
    "import turtle\n",
    "for i in range (0,4):\n",
    " turtle.forward(100)\n",
    " turtle.right(90)\n",
    "    \n",
    "turtle.exitonclick()"
   ]
  },
  {
   "cell_type": "code",
   "execution_count": 11,
   "metadata": {},
   "outputs": [],
   "source": [
    "#Draw a triangle. \n",
    "\n",
    "import turtle\n",
    "for i in range (0,3):\n",
    " turtle.forward(100)\n",
    " turtle.left(120)\n",
    "\n",
    "turtle.exitonclick()\n",
    "    "
   ]
  },
  {
   "cell_type": "code",
   "execution_count": 15,
   "metadata": {},
   "outputs": [],
   "source": [
    "#Draw a circle\n",
    "\n",
    "import turtle\n",
    "for i in range (0,360):\n",
    " turtle.forward(1)\n",
    " turtle.right(1)\n",
    "\n",
    "turtle.exitonclick()"
   ]
  },
  {
   "cell_type": "code",
   "execution_count": 21,
   "metadata": {},
   "outputs": [],
   "source": [
    "#Draw three squares in a row with a gap between each. Fill them using three different colours. \n",
    "\n",
    "import turtle\n",
    "turtle.color(\"black\",\"red\")\n",
    "turtle.begin_fill()\n",
    "for i in range (0,4):\n",
    " turtle.forward(100)\n",
    " turtle.right(90)\n",
    "turtle.penup()\n",
    "turtle.end_fill()\n",
    "turtle.forward(120)\n",
    "\n",
    "turtle.pendown()\n",
    "turtle.color(\"green\",\"yellow\")\n",
    "turtle.begin_fill()\n",
    "for i in range (0,4):\n",
    " turtle.forward(100)\n",
    " turtle.right(90)\n",
    "turtle.penup()\n",
    "turtle.end_fill()\n",
    "turtle.forward(120)\n",
    "\n",
    "turtle.pendown()\n",
    "turtle.color(\"pink\",\"blue\")\n",
    "turtle.begin_fill()\n",
    "for i in range (0,4):\n",
    " turtle.forward(100)\n",
    " turtle.right(90)\n",
    "turtle.penup()\n",
    "turtle.end_fill()\n",
    "\n",
    "turtle.exitonclick()"
   ]
  },
  {
   "cell_type": "code",
   "execution_count": 1,
   "metadata": {},
   "outputs": [
    {
     "ename": "AttributeError",
     "evalue": "module 'turtle' has no attribute 'endfill'",
     "output_type": "error",
     "traceback": [
      "\u001b[1;31m---------------------------------------------------------------------------\u001b[0m",
      "\u001b[1;31mAttributeError\u001b[0m                            Traceback (most recent call last)",
      "\u001b[1;32m<ipython-input-1-a11f46f45333>\u001b[0m in \u001b[0;36m<module>\u001b[1;34m\u001b[0m\n\u001b[0;32m      5\u001b[0m  \u001b[0mturtle\u001b[0m\u001b[1;33m.\u001b[0m\u001b[0mforward\u001b[0m\u001b[1;33m(\u001b[0m\u001b[1;36m120\u001b[0m\u001b[1;33m)\u001b[0m\u001b[1;33m\u001b[0m\u001b[1;33m\u001b[0m\u001b[0m\n\u001b[0;32m      6\u001b[0m  \u001b[0mturtle\u001b[0m\u001b[1;33m.\u001b[0m\u001b[0mleft\u001b[0m\u001b[1;33m(\u001b[0m\u001b[1;36m90\u001b[0m\u001b[1;33m)\u001b[0m\u001b[1;33m\u001b[0m\u001b[1;33m\u001b[0m\u001b[0m\n\u001b[1;32m----> 7\u001b[1;33m \u001b[0mturtle\u001b[0m\u001b[1;33m.\u001b[0m\u001b[0mendfill\u001b[0m\u001b[1;33m(\u001b[0m\u001b[1;33m)\u001b[0m\u001b[1;33m\u001b[0m\u001b[1;33m\u001b[0m\u001b[0m\n\u001b[0m\u001b[0;32m      8\u001b[0m \u001b[1;33m\u001b[0m\u001b[0m\n\u001b[0;32m      9\u001b[0m \u001b[0mturtle\u001b[0m\u001b[1;33m.\u001b[0m\u001b[0mexitonclick\u001b[0m\u001b[1;33m(\u001b[0m\u001b[1;33m)\u001b[0m\u001b[1;33m\u001b[0m\u001b[1;33m\u001b[0m\u001b[0m\n",
      "\u001b[1;31mAttributeError\u001b[0m: module 'turtle' has no attribute 'endfill'"
     ]
    }
   ],
   "source": [
    "import turtle\n",
    "turtle.color(\"green\",\"pink\")\n",
    "turtle.begin_fill()\n",
    "for i in range (0,5):\n",
    " turtle.forward(120)\n",
    " turtle.left(90)\n",
    "turtle.endfill()\n",
    "\n",
    "turtle.exitonclick()\n"
   ]
  },
  {
   "cell_type": "code",
   "execution_count": null,
   "metadata": {},
   "outputs": [],
   "source": []
  }
 ],
 "metadata": {
  "kernelspec": {
   "display_name": "Python 3",
   "language": "python",
   "name": "python3"
  },
  "language_info": {
   "codemirror_mode": {
    "name": "ipython",
    "version": 3
   },
   "file_extension": ".py",
   "mimetype": "text/x-python",
   "name": "python",
   "nbconvert_exporter": "python",
   "pygments_lexer": "ipython3",
   "version": "3.8.3"
  }
 },
 "nbformat": 4,
 "nbformat_minor": 4
}
