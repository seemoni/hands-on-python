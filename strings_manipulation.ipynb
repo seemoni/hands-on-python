{
 "cells": [
  {
   "cell_type": "code",
   "execution_count": 4,
   "metadata": {},
   "outputs": [
    {
     "name": "stdout",
     "output_type": "stream",
     "text": [
      "enter your first name: seemoni\n",
      "that has 7 characters in it\n",
      "enter your surname: sinha\n",
      "surname has 5 characters in it\n",
      "your full name is seemoni sinha\n",
      "full name has total 13 characters in it\n"
     ]
    }
   ],
   "source": [
    "#Ask the user to enter their first name and then display the length of their first name. Then ask for their surname and display the length of their surname. Join their first name and surname together with a space between and display the result. Finally,display the length of their full name (including the space)\n",
    "firstname = input(\"enter your first name: \")\n",
    "print(\"that has\", len(firstname), \"characters in it\")\n",
    "surname = input(\"enter your surname: \")\n",
    "print(\"surname has\", len(surname), \"characters in it\")\n",
    "name = firstname + \" \" + surname\n",
    "print(\"your full name is\", name)\n",
    "print(\"full name has total\", len(name), \"characters in it\")\n"
   ]
  },
  {
   "cell_type": "code",
   "execution_count": 5,
   "metadata": {},
   "outputs": [
    {
     "name": "stdout",
     "output_type": "stream",
     "text": [
      "enter your favourite subject: german\n",
      "g*e*r*m*a*n*"
     ]
    }
   ],
   "source": [
    "#Ask the user to type in their favourite school subject. Display it with “-” after each letter, e.g. S-p-a-n-i-s-h\n",
    "fav = input(\"enter your favourite subject: \")\n",
    "for letter in fav:\n",
    "    print(letter,end=\"*\")"
   ]
  },
  {
   "cell_type": "code",
   "execution_count": 8,
   "metadata": {},
   "outputs": [
    {
     "name": "stdout",
     "output_type": "stream",
     "text": [
      "twinkle twinkle little star\n",
      "enter the starting number: 6\n",
      "enter the end number: 12\n",
      "e twin\n"
     ]
    }
   ],
   "source": [
    "#Show the user a line of text from your favourite poem and ask for a starting and ending point. Display the characters between those two points. \n",
    "poem = \"twinkle twinkle little star\"\n",
    "print(poem)\n",
    "start = int(input(\"enter the starting number: \"))\n",
    "end = int(input(\"enter the end number: \"))\n",
    "print(poem[start:end])"
   ]
  },
  {
   "cell_type": "code",
   "execution_count": 11,
   "metadata": {},
   "outputs": [
    {
     "name": "stdout",
     "output_type": "stream",
     "text": [
      "enter your postcode: abc\n",
      "AB\n"
     ]
    }
   ],
   "source": [
    "#ask the user to type in their postcode. Display the first two letters in uppercas\n",
    "postcode = input(\"enter your postcode: \")\n",
    "start = postcode[0:2]\n",
    "print(start.upper())\n"
   ]
  },
  {
   "cell_type": "code",
   "execution_count": null,
   "metadata": {},
   "outputs": [],
   "source": []
  }
 ],
 "metadata": {
  "kernelspec": {
   "display_name": "Python 3",
   "language": "python",
   "name": "python3"
  },
  "language_info": {
   "codemirror_mode": {
    "name": "ipython",
    "version": 3
   },
   "file_extension": ".py",
   "mimetype": "text/x-python",
   "name": "python",
   "nbconvert_exporter": "python",
   "pygments_lexer": "ipython3",
   "version": "3.8.3"
  }
 },
 "nbformat": 4,
 "nbformat_minor": 4
}
