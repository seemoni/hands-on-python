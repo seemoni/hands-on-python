{
 "cells": [
  {
   "cell_type": "code",
   "execution_count": 17,
   "metadata": {},
   "outputs": [
    {
     "name": "stdout",
     "output_type": "stream",
     "text": [
      "type your name: seemoni\n",
      "seemoni\n",
      "seemoni\n",
      "seemoni\n"
     ]
    }
   ],
   "source": [
    "#Ask the user to enter their name and then display their name three times. \n",
    "name = input (\"type your name: \")\n",
    "for i in range (0,3):\n",
    "    print(name)\n"
   ]
  },
  {
   "cell_type": "code",
   "execution_count": 5,
   "metadata": {},
   "outputs": [
    {
     "name": "stdout",
     "output_type": "stream",
     "text": [
      "enter a number: 4\n",
      "enter a name: seemoni\n",
      "seemoni\n",
      "seemoni\n",
      "seemoni\n",
      "seemoni\n"
     ]
    }
   ],
   "source": [
    "#Alter program 035 so that it will ask the user to enter their name and a number and then display their name that number of times. \n",
    "number = int(input(\"enter a number: \"))\n",
    "name = input(\"enter a name: \")\n",
    "for i in range (0,number):\n",
    "    print(name)\n"
   ]
  },
  {
   "cell_type": "code",
   "execution_count": 8,
   "metadata": {},
   "outputs": [
    {
     "name": "stdout",
     "output_type": "stream",
     "text": [
      "enter your name: seemoni\n",
      "s\n",
      "e\n",
      "e\n",
      "m\n",
      "o\n",
      "n\n",
      "i\n"
     ]
    }
   ],
   "source": [
    "#Ask the user to enter their name and display each letter in their name on a separate line.\n",
    "name = input(\"enter your name: \")\n",
    "for i in name:\n",
    "    print(i)"
   ]
  },
  {
   "cell_type": "code",
   "execution_count": 10,
   "metadata": {},
   "outputs": [
    {
     "name": "stdout",
     "output_type": "stream",
     "text": [
      "enter you name: seemoni\n",
      "enter the number: 5\n",
      "s\n",
      "e\n",
      "e\n",
      "m\n",
      "o\n",
      "n\n",
      "i\n",
      "s\n",
      "e\n",
      "e\n",
      "m\n",
      "o\n",
      "n\n",
      "i\n",
      "s\n",
      "e\n",
      "e\n",
      "m\n",
      "o\n",
      "n\n",
      "i\n",
      "s\n",
      "e\n",
      "e\n",
      "m\n",
      "o\n",
      "n\n",
      "i\n",
      "s\n",
      "e\n",
      "e\n",
      "m\n",
      "o\n",
      "n\n",
      "i\n"
     ]
    }
   ],
   "source": [
    "#Change the above program and also ask for a number. Display their name (one letter at a time on each line) and repeat this for the number of times they entered. \n",
    "name = input(\"enter you name: \")\n",
    "number = int(input(\"enter the number: \"))\n",
    "for x in range(0,number):\n",
    "    for i in name:\n",
    "        print(i)"
   ]
  },
  {
   "cell_type": "code",
   "execution_count": 13,
   "metadata": {},
   "outputs": [
    {
     "name": "stdout",
     "output_type": "stream",
     "text": [
      "enter a number between 1 and 12: 1\n",
      "1 x 1 = 1\n",
      "2 x 1 = 2\n",
      "3 x 1 = 3\n",
      "4 x 1 = 4\n",
      "5 x 1 = 5\n",
      "6 x 1 = 6\n",
      "7 x 1 = 7\n",
      "8 x 1 = 8\n",
      "9 x 1 = 9\n",
      "10 x 1 = 10\n",
      "11 x 1 = 11\n",
      "12 x 1 = 12\n"
     ]
    }
   ],
   "source": [
    "#Ask the user to enter a number between 1 and 12 and then display the times table for that number. \n",
    "number = int(input(\"enter a number between 1 and 12: \"))\n",
    "for i in range(1,13):\n",
    "    answer = i * number\n",
    "    print(i, \"x\", number, \"=\", answer)"
   ]
  },
  {
   "cell_type": "code",
   "execution_count": 16,
   "metadata": {},
   "outputs": [
    {
     "name": "stdout",
     "output_type": "stream",
     "text": [
      "enter a number below 50: 40\n",
      "50\n",
      "49\n",
      "48\n",
      "47\n",
      "46\n",
      "45\n",
      "44\n",
      "43\n",
      "42\n",
      "41\n",
      "40\n"
     ]
    }
   ],
   "source": [
    "#Ask for a number below 50 and then count down from 50 to that number, making sure you show the number they entered in the output.\n",
    "num = int(input(\"enter a number below 50: \"))\n",
    "for i in range(50, num-1, -1):\n",
    "    print(i)"
   ]
  },
  {
   "cell_type": "code",
   "execution_count": null,
   "metadata": {},
   "outputs": [],
   "source": []
  }
 ],
 "metadata": {
  "kernelspec": {
   "display_name": "Python 3",
   "language": "python",
   "name": "python3"
  },
  "language_info": {
   "codemirror_mode": {
    "name": "ipython",
    "version": 3
   },
   "file_extension": ".py",
   "mimetype": "text/x-python",
   "name": "python",
   "nbconvert_exporter": "python",
   "pygments_lexer": "ipython3",
   "version": "3.8.3"
  }
 },
 "nbformat": 4,
 "nbformat_minor": 4
}
