{
 "cells": [
  {
   "cell_type": "code",
   "execution_count": 10,
   "metadata": {},
   "outputs": [
    {
     "name": "stdout",
     "output_type": "stream",
     "text": [
      "enter a starting number (0-4): 3\n",
      "enter an end number (5-9): 6\n",
      "('yellow', 'black', 'brown')\n"
     ]
    }
   ],
   "source": [
    "#Enter a list of ten colours. Ask the user for a starting number between 0 and 4 and an end number between 5 and 9. Display the list for those colours between the start and end numbers the user input.\n",
    "colour = (\"red\",\"blue\",\"green\",\"yellow\",\"black\",\"brown\",\"pink\",\"purple\",\"magenta\",\"beige\")\n",
    "start = int(input(\"enter a starting number (0-4): \"))\n",
    "end = int(input(\"enter an end number (5-9): \"))\n",
    "print(colour[start:end])\n"
   ]
  },
  {
   "cell_type": "code",
   "execution_count": 18,
   "metadata": {},
   "outputs": [
    {
     "name": "stdout",
     "output_type": "stream",
     "text": [
      "123\n",
      "789\n",
      "876\n",
      "543\n",
      "enter a number from the list: 453\n",
      "that is not in the list\n"
     ]
    }
   ],
   "source": [
    "#Create a list of four three-digit numbers. Display the list to the user, showing each item from the list on a separate line. Ask the user to enter a three-digit number. If the number they have typed in matches one in the list, display the position of that number in the list, otherwise display the message “That is not in the list”. \n",
    "num = [123,789,876,543]\n",
    "for i in num:\n",
    "    print(i)\n",
    "selection = int(input(\"enter a number from the list: \"))\n",
    "if selection in num:\n",
    " print(num.index(selection))\n",
    "else:\n",
    " print(\"that is not in the list\")"
   ]
  },
  {
   "cell_type": "code",
   "execution_count": 24,
   "metadata": {},
   "outputs": [
    {
     "name": "stdout",
     "output_type": "stream",
     "text": [
      "a\n",
      "b\n",
      "c\n",
      "d\n",
      "\n",
      "enter an another show: g\n",
      "enter the postion between 0 and 3: 2\n",
      "a\n",
      "b\n",
      "g\n",
      "c\n",
      "d\n"
     ]
    }
   ],
   "source": [
    "#Create a list containing the titles of four TV programmes and display them on separate lines. Ask the user to enter another show and a position they want it inserted into the list. Display the list again, showing all five TV programmes in their new positions. \n",
    "tv = [\"a\",\"b\",\"c\",\"d\"]\n",
    "for i in tv:\n",
    "    print(i)\n",
    "print()\n",
    "another = input(\"enter an another show: \")\n",
    "position = int(input(\"enter the postion between 0 and 3: \"))\n",
    "tv.insert(position,another)\n",
    "for i in tv:\n",
    " print(i)"
   ]
  },
  {
   "cell_type": "code",
   "execution_count": null,
   "metadata": {},
   "outputs": [],
   "source": []
  }
 ],
 "metadata": {
  "kernelspec": {
   "display_name": "Python 3",
   "language": "python",
   "name": "python3"
  },
  "language_info": {
   "codemirror_mode": {
    "name": "ipython",
    "version": 3
   },
   "file_extension": ".py",
   "mimetype": "text/x-python",
   "name": "python",
   "nbconvert_exporter": "python",
   "pygments_lexer": "ipython3",
   "version": "3.8.3"
  }
 },
 "nbformat": 4,
 "nbformat_minor": 4
}
